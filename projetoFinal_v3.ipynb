{
  "nbformat": 4,
  "nbformat_minor": 0,
  "metadata": {
    "colab": {
      "name": "projetoFinal_v3.ipynb",
      "provenance": [],
      "collapsed_sections": []
    },
    "kernelspec": {
      "display_name": "Python 3",
      "name": "python3"
    },
    "language_info": {
      "name": "python"
    },
    "accelerator": "GPU"
  },
  "cells": [
    {
      "cell_type": "code",
      "metadata": {
        "id": "masA69okFeAr"
      },
      "source": [
        "import keras\n",
        "from keras.models import Sequential, Model,load_model\n",
        "from keras import backend as K\n",
        "from keras.layers.core import Dense, Activation\n",
        "from keras.metrics import categorical_crossentropy\n",
        "from keras.preprocessing.image import ImageDataGenerator\n",
        "from keras.preprocessing import image\n",
        "from keras.models import Model\n",
        "from keras.applications import imagenet_utils\n",
        "from keras.layers import Dense,GlobalAveragePooling2D\n",
        "from keras.applications.mobilenet import MobileNet\n",
        "from keras.applications.mobilenet import preprocess_input\n",
        "from keras.applications.vgg16 import VGG16\n",
        "import numpy as np\n",
        "from IPython.display import Image\n",
        "from keras.layers.core import Flatten, Dense, Dropout\n",
        "from sklearn.utils import shuffle\n",
        "import matplotlib.pylab as plt\n",
        "from sklearn.preprocessing import LabelEncoder\n",
        "from tensorflow.keras.utils import to_categorical\n",
        "from sklearn.model_selection import train_test_split"
      ],
      "execution_count": 2,
      "outputs": []
    },
    {
      "cell_type": "code",
      "metadata": {
        "id": "WaalFOh8ItYr",
        "colab": {
          "base_uri": "https://localhost:8080/"
        },
        "outputId": "f2c7f469-25a7-487c-e1ae-9db12f5c844c"
      },
      "source": [
        "#Montagem do drive\n",
        "from google.colab import drive\n",
        "drive.mount('/content/drive')"
      ],
      "execution_count": 3,
      "outputs": [
        {
          "output_type": "stream",
          "name": "stdout",
          "text": [
            "Mounted at /content/drive\n"
          ]
        }
      ]
    },
    {
      "cell_type": "code",
      "metadata": {
        "id": "XbAzW8SXI5ri",
        "colab": {
          "base_uri": "https://localhost:8080/"
        },
        "outputId": "8a172043-f6db-4634-af23-e928e52975cd"
      },
      "source": [
        "#mapeando area de trabalho\n",
        "import os\n",
        "os.chdir('/content/drive/My Drive/datasets/jetski/jet')\n",
        "!ls"
      ],
      "execution_count": 4,
      "outputs": [
        {
          "output_type": "stream",
          "name": "stdout",
          "text": [
            "modeloJet.h5  model.tflite  modelV2  modelV3  test  train\n"
          ]
        }
      ]
    },
    {
      "cell_type": "code",
      "metadata": {
        "id": "onYaSKlcI8qx",
        "colab": {
          "base_uri": "https://localhost:8080/"
        },
        "outputId": "7ccc36c8-99c2-4dbf-9b2a-b276955087ca"
      },
      "source": [
        "#carregando uma VGG sem a parte dense\n",
        "model= VGG16(input_shape=(224, 224, 3), weights=\"imagenet\", include_top=False)\n",
        "# congelar as camadas de convnet\n",
        "for layer in model.layers:\n",
        "\tlayer.trainable = False\n",
        "\n",
        "model.summary()"
      ],
      "execution_count": 5,
      "outputs": [
        {
          "output_type": "stream",
          "name": "stdout",
          "text": [
            "Downloading data from https://storage.googleapis.com/tensorflow/keras-applications/vgg16/vgg16_weights_tf_dim_ordering_tf_kernels_notop.h5\n",
            "58892288/58889256 [==============================] - 1s 0us/step\n",
            "58900480/58889256 [==============================] - 1s 0us/step\n",
            "Model: \"vgg16\"\n",
            "_________________________________________________________________\n",
            "Layer (type)                 Output Shape              Param #   \n",
            "=================================================================\n",
            "input_1 (InputLayer)         [(None, 224, 224, 3)]     0         \n",
            "_________________________________________________________________\n",
            "block1_conv1 (Conv2D)        (None, 224, 224, 64)      1792      \n",
            "_________________________________________________________________\n",
            "block1_conv2 (Conv2D)        (None, 224, 224, 64)      36928     \n",
            "_________________________________________________________________\n",
            "block1_pool (MaxPooling2D)   (None, 112, 112, 64)      0         \n",
            "_________________________________________________________________\n",
            "block2_conv1 (Conv2D)        (None, 112, 112, 128)     73856     \n",
            "_________________________________________________________________\n",
            "block2_conv2 (Conv2D)        (None, 112, 112, 128)     147584    \n",
            "_________________________________________________________________\n",
            "block2_pool (MaxPooling2D)   (None, 56, 56, 128)       0         \n",
            "_________________________________________________________________\n",
            "block3_conv1 (Conv2D)        (None, 56, 56, 256)       295168    \n",
            "_________________________________________________________________\n",
            "block3_conv2 (Conv2D)        (None, 56, 56, 256)       590080    \n",
            "_________________________________________________________________\n",
            "block3_conv3 (Conv2D)        (None, 56, 56, 256)       590080    \n",
            "_________________________________________________________________\n",
            "block3_pool (MaxPooling2D)   (None, 28, 28, 256)       0         \n",
            "_________________________________________________________________\n",
            "block4_conv1 (Conv2D)        (None, 28, 28, 512)       1180160   \n",
            "_________________________________________________________________\n",
            "block4_conv2 (Conv2D)        (None, 28, 28, 512)       2359808   \n",
            "_________________________________________________________________\n",
            "block4_conv3 (Conv2D)        (None, 28, 28, 512)       2359808   \n",
            "_________________________________________________________________\n",
            "block4_pool (MaxPooling2D)   (None, 14, 14, 512)       0         \n",
            "_________________________________________________________________\n",
            "block5_conv1 (Conv2D)        (None, 14, 14, 512)       2359808   \n",
            "_________________________________________________________________\n",
            "block5_conv2 (Conv2D)        (None, 14, 14, 512)       2359808   \n",
            "_________________________________________________________________\n",
            "block5_conv3 (Conv2D)        (None, 14, 14, 512)       2359808   \n",
            "_________________________________________________________________\n",
            "block5_pool (MaxPooling2D)   (None, 7, 7, 512)         0         \n",
            "=================================================================\n",
            "Total params: 14,714,688\n",
            "Trainable params: 0\n",
            "Non-trainable params: 14,714,688\n",
            "_________________________________________________________________\n"
          ]
        }
      ]
    },
    {
      "cell_type": "code",
      "metadata": {
        "id": "Bwz5At1oJE4L"
      },
      "source": [
        "# criando a parte densa\n",
        "flat1 = Flatten()(model.layers[-1].output)\n",
        "class1 = Dense(12, activation='relu')(flat1)\n",
        "class2 = Dense(8, activation='relu')(class1)\n",
        "output = Dense(3, activation='softmax')(class2)\n",
        "# define new model\n",
        "modelFinal = Model(inputs=model.inputs, outputs=output)"
      ],
      "execution_count": 6,
      "outputs": []
    },
    {
      "cell_type": "code",
      "metadata": {
        "id": "WpIUo4U7JNY6"
      },
      "source": [
        "modelFinal.compile(loss='binary_crossentropy', optimizer='adam', metrics=['accuracy'])"
      ],
      "execution_count": 7,
      "outputs": []
    },
    {
      "cell_type": "code",
      "metadata": {
        "id": "Utwa9X4OJOoz"
      },
      "source": [
        "#função para carregar as imagens de treino/val\n",
        "def creating_traning_data():\n",
        "  traningDataX=[]\n",
        "  traningDataY=[]\n",
        "  os.chdir('/content/drive/My Drive/datasets/jetski/jet/train')\n",
        "  for img in os.listdir():\n",
        "    img=image.load_img(img, target_size=(224,224,3));\n",
        "    img_array=image.img_to_array(img).astype('float32')/255\n",
        "    traningDataX.append(img_array)\n",
        "    traningDataY.append('jet')\n",
        "\n",
        "  os.chdir('/content/drive/My Drive/datasets/jetski/lixo/train')\n",
        "  for img in os.listdir():\n",
        "    img=image.load_img(img, target_size=(224,224,3))\n",
        "    img_array=image.img_to_array(img).astype('float32')/255\n",
        "    traningDataX.append(img_array)\n",
        "    traningDataY.append('lixo')\n",
        "\n",
        "  os.chdir('/content/drive/My Drive/datasets/jetski/banhista/train')\n",
        "  for img in os.listdir():\n",
        "    img=image.load_img(img, target_size=(224,224,3))\n",
        "    img_array=image.img_to_array(img).astype('float32')/255\n",
        "    traningDataX.append(img_array)\n",
        "    traningDataY.append('banhista')\n",
        "\n",
        "  os.chdir('/content/drive/My Drive/datasets/jetski/jet')\n",
        "\n",
        "  #onehot encoding nas labels.\n",
        "  le = LabelEncoder()\n",
        "  traningDataY = le.fit_transform(traningDataY)\n",
        "  traningDataY = to_categorical(traningDataY, 3)\n",
        "\n",
        "  traningDataX = np.array(traningDataX)\n",
        "  traningDataY = np.array(traningDataY)\n",
        "\n",
        "  traningDataX,traningDataY = shuffle(traningDataX,traningDataY)\n",
        "\n",
        "  return [traningDataX, traningDataY]\n"
      ],
      "execution_count": 8,
      "outputs": []
    },
    {
      "cell_type": "code",
      "metadata": {
        "id": "whYrpXxNZfgV",
        "colab": {
          "base_uri": "https://localhost:8080/"
        },
        "outputId": "d84359b8-0fba-43b9-c92d-cf0056738b83"
      },
      "source": [
        "# Carregando as imagens\n",
        "[traningDataX, traningDataY] = creating_traning_data()\n",
        "\n",
        "print(len(traningDataX))"
      ],
      "execution_count": null,
      "outputs": [
        {
          "output_type": "stream",
          "name": "stderr",
          "text": [
            "/usr/local/lib/python3.7/dist-packages/PIL/Image.py:960: UserWarning: Palette images with Transparency expressed in bytes should be converted to RGBA images\n",
            "  \"Palette images with Transparency expressed in bytes should be \"\n"
          ]
        }
      ]
    },
    {
      "cell_type": "code",
      "metadata": {
        "id": "7DWLYQXQcWs3"
      },
      "source": [
        "np.shape(traningDataY)"
      ],
      "execution_count": null,
      "outputs": []
    },
    {
      "cell_type": "code",
      "metadata": {
        "id": "IMFqL3ehcrBK"
      },
      "source": [
        "#inicializando o data generator\n",
        "aug = ImageDataGenerator(\n",
        "\t\trotation_range=20,\n",
        "\t\tzoom_range=0.15,\n",
        "\t\twidth_shift_range=0.2,\n",
        "\t\theight_shift_range=0.2,\n",
        "\t\tshear_range=0.15,\n",
        "\t\thorizontal_flip=True,\n",
        "\t\tfill_mode=\"nearest\")"
      ],
      "execution_count": null,
      "outputs": []
    },
    {
      "cell_type": "code",
      "metadata": {
        "id": "M_mXq1mAeaqA"
      },
      "source": [
        "#preparando treino e val\n",
        "(trainX, valX, trainY, valY) = train_test_split(traningDataX, traningDataY, test_size=0.2, random_state=42)"
      ],
      "execution_count": null,
      "outputs": []
    },
    {
      "cell_type": "code",
      "metadata": {
        "id": "2xkGgP8xTFtr"
      },
      "source": [
        "np.shape(valX)"
      ],
      "execution_count": null,
      "outputs": []
    },
    {
      "cell_type": "code",
      "metadata": {
        "id": "0OOVkBWYcwma"
      },
      "source": [
        "h = modelFinal.fit(x=aug.flow(trainX, trainY, batch_size=10), validation_data=(valX, valY),steps_per_epoch=len(trainX)/10,epochs=30)"
      ],
      "execution_count": null,
      "outputs": []
    },
    {
      "cell_type": "code",
      "metadata": {
        "id": "HtVmFixkcwAL"
      },
      "source": [
        "plt.plot(h.history['accuracy'])\n",
        "plt.plot(h.history['val_accuracy'])"
      ],
      "execution_count": null,
      "outputs": []
    },
    {
      "cell_type": "code",
      "metadata": {
        "id": "OSHtTCtTdDSz"
      },
      "source": [
        "#função para carregar as imagens de treino/val\n",
        "def creating_test_data():\n",
        "  testDataX=[]\n",
        "  testDataY=[]\n",
        "  os.chdir('/content/drive/My Drive/datasets/jetski/jet/test')\n",
        "  for img in os.listdir():\n",
        "    img=image.load_img(img, target_size=(224,224,3));\n",
        "    img_array=image.img_to_array(img).astype('float32')/255\n",
        "    testDataX.append(img_array)\n",
        "    testDataY.append('jet')\n",
        "\n",
        "  os.chdir('/content/drive/My Drive/datasets/jetski/lixo/test')\n",
        "  for img in os.listdir():\n",
        "    img=image.load_img(img, target_size=(224,224,3))\n",
        "    img_array=image.img_to_array(img).astype('float32')/255\n",
        "    testDataX.append(img_array)\n",
        "    testDataY.append('lixo')\n",
        "\n",
        "  os.chdir('/content/drive/My Drive/datasets/jetski/banhista/test')\n",
        "  for img in os.listdir():\n",
        "    img=image.load_img(img, target_size=(224,224,3))\n",
        "    img_array=image.img_to_array(img).astype('float32')/255\n",
        "    testDataX.append(img_array)\n",
        "    testDataY.append('banhista')\n",
        "\n",
        "  \n",
        "\n",
        "  os.chdir('/content/drive/My Drive/datasets/jetski')\n",
        "\n",
        "  #onehot encoding nas labels.\n",
        "  le = LabelEncoder()\n",
        "  testDataY = le.fit_transform(testDataY)\n",
        "  testDataY = to_categorical(testDataY, 3)\n",
        "\n",
        "  testDataX = np.array(testDataX)\n",
        "  testDataY = np.array(testDataY)\n",
        "\n",
        "  testDataX,testDataY = shuffle(testDataX,testDataY)\n",
        "\n",
        "  return [testDataX, testDataY]"
      ],
      "execution_count": null,
      "outputs": []
    },
    {
      "cell_type": "code",
      "metadata": {
        "id": "ecVMMrkaducy"
      },
      "source": [
        "testDataX, testDataY  = creating_test_data()"
      ],
      "execution_count": null,
      "outputs": []
    },
    {
      "cell_type": "code",
      "metadata": {
        "id": "mmopmFo0d9t8"
      },
      "source": [
        "# evaluate the keras model\n",
        "accuracy = modelFinal.evaluate(testDataX, testDataY)"
      ],
      "execution_count": null,
      "outputs": []
    },
    {
      "cell_type": "code",
      "metadata": {
        "id": "EAEqnJKdfl-Q"
      },
      "source": [
        "accuracy"
      ],
      "execution_count": null,
      "outputs": []
    },
    {
      "cell_type": "code",
      "metadata": {
        "id": "bGnZumwKgSnZ"
      },
      "source": [
        "plt.imshow(testDataX[6], interpolation='nearest')\n",
        "plt.show()"
      ],
      "execution_count": null,
      "outputs": []
    },
    {
      "cell_type": "code",
      "metadata": {
        "id": "-WWf7rQyfuYA"
      },
      "source": [
        "#testando a saida da VGG\n",
        "X=testDataX[6].reshape((1,224,224,3))\n",
        "X=preprocess_input(X)\n",
        "saida=modelFinal.predict(X)\n",
        "saida[0]"
      ],
      "execution_count": null,
      "outputs": []
    },
    {
      "cell_type": "code",
      "metadata": {
        "id": "lRVAvH5rclSA"
      },
      "source": [
        "os.chdir('/content/drive/My Drive/datasets/jetski/jet')\n",
        "modelFinal.save('modelV4.h5')"
      ],
      "execution_count": null,
      "outputs": []
    }
  ]
}